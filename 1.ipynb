{
 "cells": [
  {
   "cell_type": "code",
   "execution_count": 2,
   "id": "9f67c07e",
   "metadata": {},
   "outputs": [],
   "source": [
    "import pennylane as qml\n",
    "import numpy as np"
   ]
  },
  {
   "cell_type": "code",
   "execution_count": null,
   "id": "c8459d8a",
   "metadata": {},
   "outputs": [],
   "source": [
    "n_qubits: int = 5\n",
    "dev = qml.device('default.clifford', wires = n_qubits)\n",
    "\n",
    "def RX(theta, wires):\n",
    "    if theta == 0:\n",
    "        qml.I(wires)\n",
    "    elif theta == np.pi/2:\n",
    "        qml.adjoint(qml.S(wires))\n",
    "        qml.H(wires)\n",
    "        qml.adjoint(qml.S(wires))\n",
    "    elif theta == np.pi:\n",
    "        qml.X(wires)\n",
    "    elif theta ==  3*np.pi/2:\n",
    "        qml.S(wires)\n",
    "        qml.H(wires)\n",
    "        qml.S(wires)\n",
    "    elif theta ==  4*np.pi/2:\n",
    "        RX(0, wires)\n",
    "    elif theta ==  -1*np.pi/2:\n",
    "        RX(3*np.pi/2, wires)\n",
    "    else:\n",
    "        raise ValueError(f\"theta = {theta} makes e^itheta/2P not Clifford\")\n",
    "\n",
    "@qml.qnode(dev)\n",
    "def circuit(thetas):\n",
    "    for i in range(n_qubits):\n",
    "        RX(thetas[i], wires = i)\n",
    "\n",
    "    return [\n",
    "        qml.expval(qml.Z(i)) for i in range(n_qubits)\n",
    "    ]"
   ]
  },
  {
   "cell_type": "code",
   "execution_count": 73,
   "id": "8bc8ab84",
   "metadata": {},
   "outputs": [
    {
     "data": {
      "text/plain": [
       "array([1.57079633, 1.57079633, 4.71238898, 4.71238898, 3.14159265])"
      ]
     },
     "execution_count": 73,
     "metadata": {},
     "output_type": "execute_result"
    }
   ],
   "source": [
    "possible_thetas = np.pi/2 * np.array([0,1,2,3])\n",
    "\n",
    "np.random.choice(possible_thetas, 5)"
   ]
  },
  {
   "cell_type": "code",
   "execution_count": 86,
   "id": "80a0cc5d",
   "metadata": {},
   "outputs": [],
   "source": [
    "n_shots = 1000\n",
    "\n",
    "def e(n, i):\n",
    "    out = np.zeros(n)\n",
    "    out[i] = 1\n",
    "    return out\n",
    "\n",
    "K_theta = []\n",
    "for shot in range(n_shots):\n",
    "    counter = 0\n",
    "    thetas = np.random.choice(possible_thetas, n_qubits)\n",
    "    for i in range(n_qubits):\n",
    "        out1 = np.sum(circuit(thetas + np.pi/2 * e(n_qubits, i)))\n",
    "        out2 = np.sum(circuit(thetas - np.pi/2 * e(n_qubits, i)))\n",
    "        counter += (out1 - out2)**2\n",
    "    K_theta.append(counter / 4)"
   ]
  },
  {
   "cell_type": "code",
   "execution_count": 87,
   "id": "c50e20d9",
   "metadata": {},
   "outputs": [
    {
     "data": {
      "text/plain": [
       "np.float64(2.537)"
      ]
     },
     "execution_count": 87,
     "metadata": {},
     "output_type": "execute_result"
    }
   ],
   "source": [
    "np.mean(K_theta)"
   ]
  },
  {
   "cell_type": "markdown",
   "id": "43d9036e",
   "metadata": {},
   "source": [
    "I should:\n",
    "- Switch to integer mod 4 notation in my auxiliary RX\n",
    "- Add non-|0> initial states\n",
    "- Wrap the parameter-shift-rule-gradient into a function\n",
    "- Memorize the $\\hat{K}_\\theta$ for each $theta$"
   ]
  },
  {
   "cell_type": "code",
   "execution_count": null,
   "id": "bb2db275",
   "metadata": {},
   "outputs": [],
   "source": []
  }
 ],
 "metadata": {
  "kernelspec": {
   "display_name": "qmlvenv (3.12.3)",
   "language": "python",
   "name": "python3"
  },
  "language_info": {
   "codemirror_mode": {
    "name": "ipython",
    "version": 3
   },
   "file_extension": ".py",
   "mimetype": "text/x-python",
   "name": "python",
   "nbconvert_exporter": "python",
   "pygments_lexer": "ipython3",
   "version": "3.12.3"
  }
 },
 "nbformat": 4,
 "nbformat_minor": 5
}
