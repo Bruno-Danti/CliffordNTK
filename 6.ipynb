{
 "cells": [
  {
   "cell_type": "code",
   "execution_count": 1,
   "id": "58187b15",
   "metadata": {},
   "outputs": [],
   "source": [
    "import qiskit as qsk, numpy as np, matplotlib.pyplot as plt\n",
    "from qiskit.quantum_info import SparsePauliOp, Statevector, Clifford"
   ]
  },
  {
   "cell_type": "code",
   "execution_count": 2,
   "id": "1af7a68c",
   "metadata": {},
   "outputs": [],
   "source": [
    "def random_thetas(shape: \"shape\"):\n",
    "    possible_theta_values = np.pi / 2 * np.arange(4)\n",
    "    return np.random.choice(possible_theta_values, shape)\n",
    "\n",
    "def simple_test_circuit(angles: np.ndarray):\n",
    "    n_qubits = len(angles)\n",
    "    qc = qsk.QuantumCircuit(n_qubits)\n",
    "    for i in range(n_qubits):\n",
    "        qc.rx(angles[i], i)\n",
    "    return qc\n",
    "\n",
    "def parameter_shift_rule_gradient(f: \"function\", angles: np.ndarray[int], *args, **kwargs):\n",
    "    out = np.empty_like(angles, dtype=complex)\n",
    "    for i in np.ndindex(angles.shape):\n",
    "        original_angle = angles[i]  # Will need to be restored at the end of loop\n",
    "        angles[i] += 1 * np.pi / 2\n",
    "        f_plus = f(angles, *args, **kwargs)\n",
    "        angles[i] -= 2 * np.pi / 2\n",
    "        f_minus = f(angles, *args, **kwargs)\n",
    "        angles[i] = original_angle\n",
    "        out[i] = (f_plus - f_minus) / 2\n",
    "    return out\n",
    "\n",
    "def empirical_NTK(f: \"function\", angles: np.ndarray[int], x, y, *args):\n",
    "    return np.sum(\n",
    "        parameter_shift_rule_gradient(f, angles, x, *args)\n",
    "        *\n",
    "        parameter_shift_rule_gradient(f, angles, y, *args)\n",
    "    )\n",
    "\n",
    "def analytic_NTK(f: \"function\", x, y, angles_shape: tuple[int], n_shots: int, *args):\n",
    "    return np.mean([\n",
    "        empirical_NTK(\n",
    "            f, random_thetas(angles_shape), x, y, *args\n",
    "        )\n",
    "        for _ in range(n_shots)\n",
    "    ])"
   ]
  },
  {
   "cell_type": "code",
   "execution_count": 10,
   "id": "cc4d0418",
   "metadata": {},
   "outputs": [
    {
     "data": {
      "text/plain": [
       "np.complex128(-0.514+0j)"
      ]
     },
     "execution_count": 10,
     "metadata": {},
     "output_type": "execute_result"
    }
   ],
   "source": [
    "n_qubits = 5\n",
    "n_shots = 500\n",
    "\n",
    "x = 7\n",
    "y = 0\n",
    "\n",
    "psi1, psi2 = Statevector.from_int(x, 2**n_qubits), Statevector.from_int(y, 2**n_qubits)\n",
    "obs = SparsePauliOp.from_sparse_list(\n",
    "    [\n",
    "        (\"Z\", [i], 1) for i in range(n_qubits)\n",
    "    ],\n",
    "    num_qubits=n_qubits\n",
    ")\n",
    "\n",
    "def evolveSPO(op: SparsePauliOp, other: Clifford) -> SparsePauliOp:\n",
    "    return SparsePauliOp(\n",
    "        op.paulis.evolve(other)\n",
    "    )\n",
    "\n",
    "def qf(thetas, psi1, op):\n",
    "    qc = simple_test_circuit(thetas)\n",
    "    psi1 = psi1.evolve(qc)\n",
    "    #op = evolveSPO(op, Clifford(qc)) \n",
    "    return psi1.expectation_value(op)\n",
    "\n",
    "analytic_NTK(qf, psi1, psi2, [n_qubits], n_shots, obs)"
   ]
  },
  {
   "cell_type": "code",
   "execution_count": 60,
   "id": "e7dc403b",
   "metadata": {},
   "outputs": [
    {
     "name": "stdout",
     "output_type": "stream",
     "text": [
      "      ┌───────┐  \n",
      "q_0: ─┤ Rx(π) ├──\n",
      "     ┌┴───────┴─┐\n",
      "q_1: ┤ Rx(3π/2) ├\n",
      "     └┬───────┬─┘\n",
      "q_2: ─┤ Rx(0) ├──\n",
      "      ├───────┤  \n",
      "q_3: ─┤ Rx(π) ├──\n",
      "      ├───────┤  \n",
      "q_4: ─┤ Rx(π) ├──\n",
      "      └───────┘  \n",
      "SparsePauliOp(['IIIIZ', 'IIIZI', 'IIZII', 'IZIII', 'ZIIII'],\n",
      "              coeffs=[1.+0.j, 1.+0.j, 1.+0.j, 1.+0.j, 1.+0.j])\n"
     ]
    },
    {
     "data": {
      "text/latex": [
       "$$ |00010\\rangle$$"
      ],
      "text/plain": [
       "<IPython.core.display.Latex object>"
      ]
     },
     "metadata": {},
     "output_type": "display_data"
    },
    {
     "data": {
      "text/latex": [
       "$$\\frac{\\sqrt{2}}{2} |11001\\rangle- \\frac{\\sqrt{2} i}{2} |11011\\rangle$$"
      ],
      "text/plain": [
       "<IPython.core.display.Latex object>"
      ]
     },
     "metadata": {},
     "output_type": "display_data"
    }
   ],
   "source": [
    "np.random.seed(42)\n",
    "initial_state: int = 2\n",
    "angles = random_thetas(n_qubits)\n",
    "qc = simple_test_circuit(angles)\n",
    "print(qc.draw(\"text\"))\n",
    "\n",
    "O = SparsePauliOp.from_sparse_list(\n",
    "    [(\"Z\", [i], 1) for i in range(qc.num_qubits)],\n",
    "    num_qubits= qc.num_qubits\n",
    ")\n",
    "print(O)\n",
    "psi = Statevector.from_int(initial_state, 2**qc.num_qubits)\n",
    "display(psi.draw(\"latex\"))\n",
    "psi_evolved = psi.evolve(qc)\n",
    "display(psi_evolved.draw(\"latex\"))"
   ]
  },
  {
   "cell_type": "code",
   "execution_count": 63,
   "id": "e4500795",
   "metadata": {},
   "outputs": [
    {
     "name": "stdout",
     "output_type": "stream",
     "text": [
      "Clifford: Stabilizer = ['-IIIIZ', '+IIIYI', '+IIZII', '-IZIII', '-ZIIII'], Destabilizer = ['+IIIIX', '+IIIXI', '+IIXII', '+IXIII', '+XIIII']\n",
      "O = \n",
      " SparsePauliOp(['IIIIZ', 'IIIZI', 'IIZII', 'IZIII', 'ZIIII'],\n",
      "              coeffs=[1.+0.j, 1.+0.j, 1.+0.j, 1.+0.j, 1.+0.j])\n",
      "O_evolved = \n",
      " SparsePauliOp(['IIIIZ', 'IIIYI', 'IIZII', 'IZIII', 'ZIIII'],\n",
      "              coeffs=[-1.+0.j, -1.+0.j,  1.+0.j, -1.+0.j, -1.+0.j])\n",
      "(-1.9999999999999998+0j) (-2+0j) True\n"
     ]
    }
   ],
   "source": [
    "qc_as_cliff = Clifford(qc)\n",
    "print(qc_as_cliff)\n",
    "O_evolved = SparsePauliOp(\n",
    "    O.paulis.evolve(qc_as_cliff)\n",
    ")\n",
    "print(\"O = \\n\", O)\n",
    "print(\"O_evolved = \\n\",O_evolved)\n",
    "\n",
    "result1, result2 = psi_evolved.expectation_value(O), psi.expectation_value(O_evolved)\n",
    "print(\n",
    "    result1,\n",
    "    result2,\n",
    "    np.isclose(result1, result2)\n",
    ")"
   ]
  },
  {
   "cell_type": "code",
   "execution_count": 62,
   "id": "90157712",
   "metadata": {},
   "outputs": [
    {
     "data": {
      "text/plain": [
       "np.complex128(-2+0j)"
      ]
     },
     "execution_count": 62,
     "metadata": {},
     "output_type": "execute_result"
    }
   ],
   "source": [
    "result2"
   ]
  },
  {
   "cell_type": "code",
   "execution_count": 49,
   "id": "7b8e9ab7",
   "metadata": {},
   "outputs": [
    {
     "name": "stdout",
     "output_type": "stream",
     "text": [
      "      ┌───────┐  \n",
      "q_0: ─┤ Rx(π) ├──\n",
      "     ┌┴───────┴─┐\n",
      "q_1: ┤ Rx(3π/2) ├\n",
      "     └┬───────┬─┘\n",
      "q_2: ─┤ Rx(0) ├──\n",
      "      ├───────┤  \n",
      "q_3: ─┤ Rx(π) ├──\n",
      "      ├───────┤  \n",
      "q_4: ─┤ Rx(0) ├──\n",
      "      └───────┘  \n",
      "SparsePauliOp(['IIIIZ', 'IIIZI', 'IIZII', 'IZIII', 'ZIIII'],\n",
      "              coeffs=[1.+0.j, 1.+0.j, 1.+0.j, 1.+0.j, 1.+0.j])\n"
     ]
    },
    {
     "data": {
      "text/latex": [
       "$$ |00001\\rangle$$"
      ],
      "text/plain": [
       "<IPython.core.display.Latex object>"
      ]
     },
     "metadata": {},
     "output_type": "display_data"
    },
    {
     "data": {
      "text/latex": [
       "$$\\frac{\\sqrt{2}}{2} |01000\\rangle+\\frac{\\sqrt{2} i}{2} |01010\\rangle$$"
      ],
      "text/plain": [
       "<IPython.core.display.Latex object>"
      ]
     },
     "metadata": {},
     "output_type": "display_data"
    }
   ],
   "source": [
    "angles = random_thetas(5)\n",
    "qc = simple_test_circuit(angles)\n",
    "#qc.measure_all()\n",
    "print(qc.draw(\"text\"))\n",
    "\n",
    "\n",
    "O = SparsePauliOp.from_sparse_list(\n",
    "    [(\"Z\", [i], 1) for i in range(qc.num_qubits)],\n",
    "    num_qubits= qc.num_qubits\n",
    ")\n",
    "print(O)\n",
    "psi = Statevector.from_int(1, 2**qc.num_qubits)\n",
    "#psi = Statevector.from_label(\"00010\")\n",
    "display(psi.draw(\"latex\"))\n",
    "psi = psi.evolve(qc)\n",
    "display(psi.draw(\"latex\"))"
   ]
  },
  {
   "cell_type": "code",
   "execution_count": 58,
   "id": "13f975ab",
   "metadata": {},
   "outputs": [
    {
     "data": {
      "text/plain": [
       "np.complex128(1.9999999999999998+0j)"
      ]
     },
     "execution_count": 58,
     "metadata": {},
     "output_type": "execute_result"
    }
   ],
   "source": [
    "psi.expectation_value(O)"
   ]
  },
  {
   "cell_type": "code",
   "execution_count": 54,
   "id": "d8fae9ca",
   "metadata": {},
   "outputs": [
    {
     "data": {
      "text/latex": [
       "$$ |00\\rangle+2 |01\\rangle+3 |10\\rangle+4 |11\\rangle$$"
      ],
      "text/plain": [
       "<IPython.core.display.Latex object>"
      ]
     },
     "metadata": {},
     "output_type": "display_data"
    }
   ],
   "source": [
    "psi2 = Statevector([\n",
    "    1,2,3,4\n",
    "])\n",
    "\n",
    "display(psi2.draw(\"latex\"))"
   ]
  },
  {
   "cell_type": "code",
   "execution_count": 13,
   "id": "a56c1b6a",
   "metadata": {},
   "outputs": [
    {
     "data": {
      "image/png": "[encoded data removed]",
      "text/plain": [
       "<Figure size 747.609x535.111 with 1 Axes>"
      ]
     },
     "execution_count": 13,
     "metadata": {},
     "output_type": "execute_result"
    }
   ],
   "source": [
    "qc.draw(\"mpl\")"
   ]
  },
  {
   "cell_type": "code",
   "execution_count": null,
   "id": "072a0b33",
   "metadata": {},
   "outputs": [
    {
     "ename": "CircuitError",
     "evalue": "\"Invalid param type <class 'numpy.ndarray'> for gate rx.\"",
     "output_type": "error",
     "traceback": [
      "\u001b[31m---------------------------------------------------------------------------\u001b[39m",
      "\u001b[31mCircuitError\u001b[39m                              Traceback (most recent call last)",
      "\u001b[36mCell\u001b[39m\u001b[36m \u001b[39m\u001b[32mIn[49]\u001b[39m\u001b[32m, line 3\u001b[39m\n\u001b[32m      1\u001b[39m qc = qsk.QuantumCircuit(\u001b[32m10\u001b[39m)\n\u001b[32m----> \u001b[39m\u001b[32m3\u001b[39m \u001b[43mqc\u001b[49m\u001b[43m.\u001b[49m\u001b[43mrx\u001b[49m\u001b[43m(\u001b[49m\u001b[43mnp\u001b[49m\u001b[43m.\u001b[49m\u001b[43mpi\u001b[49m\u001b[43m \u001b[49m\u001b[43m*\u001b[49m\u001b[43m \u001b[49m\u001b[43mnp\u001b[49m\u001b[43m.\u001b[49m\u001b[43marray\u001b[49m\u001b[43m(\u001b[49m\u001b[43m[\u001b[49m\u001b[32;43m1.5\u001b[39;49m\u001b[43m]\u001b[49m\u001b[43m)\u001b[49m\u001b[43m,\u001b[49m\u001b[43m \u001b[49m\u001b[43m[\u001b[49m\u001b[32;43m2\u001b[39;49m\u001b[43m,\u001b[49m\u001b[43m \u001b[49m\u001b[32;43m3\u001b[39;49m\u001b[43m]\u001b[49m\u001b[43m)\u001b[49m\n\u001b[32m      4\u001b[39m qc = qsk.quantum_info.Clifford(qc)\n\u001b[32m      5\u001b[39m qc.to_circuit().draw(\u001b[33m\"\u001b[39m\u001b[33mmpl\u001b[39m\u001b[33m\"\u001b[39m)\n",
      "\u001b[36mFile \u001b[39m\u001b[32m~/Desktop/study/quantum_ml/project/qmlvenv/lib/python3.12/site-packages/qiskit/circuit/quantumcircuit.py:5391\u001b[39m, in \u001b[36mQuantumCircuit.rx\u001b[39m\u001b[34m(self, theta, qubit, label)\u001b[39m\n\u001b[32m   5376\u001b[39m \u001b[38;5;28;01mdef\u001b[39;00m\u001b[38;5;250m \u001b[39m\u001b[34mrx\u001b[39m(\n\u001b[32m   5377\u001b[39m     \u001b[38;5;28mself\u001b[39m, theta: ParameterValueType, qubit: QubitSpecifier, label: \u001b[38;5;28mstr\u001b[39m | \u001b[38;5;28;01mNone\u001b[39;00m = \u001b[38;5;28;01mNone\u001b[39;00m\n\u001b[32m   5378\u001b[39m ) -> InstructionSet:\n\u001b[32m   5379\u001b[39m \u001b[38;5;250m    \u001b[39m\u001b[33;03m\"\"\"Apply :class:`~qiskit.circuit.library.RXGate`.\u001b[39;00m\n\u001b[32m   5380\u001b[39m \n\u001b[32m   5381\u001b[39m \u001b[33;03m    For the full matrix form of this gate, see the underlying gate documentation.\u001b[39;00m\n\u001b[32m   (...)\u001b[39m\u001b[32m   5389\u001b[39m \u001b[33;03m        A handle to the instructions created.\u001b[39;00m\n\u001b[32m   5390\u001b[39m \u001b[33;03m    \"\"\"\u001b[39;00m\n\u001b[32m-> \u001b[39m\u001b[32m5391\u001b[39m     \u001b[38;5;28;01mreturn\u001b[39;00m \u001b[38;5;28;43mself\u001b[39;49m\u001b[43m.\u001b[49m\u001b[43m_append_standard_gate\u001b[49m\u001b[43m(\u001b[49m\u001b[43mStandardGate\u001b[49m\u001b[43m.\u001b[49m\u001b[43mRX\u001b[49m\u001b[43m,\u001b[49m\u001b[43m \u001b[49m\u001b[43m[\u001b[49m\u001b[43mqubit\u001b[49m\u001b[43m]\u001b[49m\u001b[43m,\u001b[49m\u001b[43m \u001b[49m\u001b[43m[\u001b[49m\u001b[43mtheta\u001b[49m\u001b[43m]\u001b[49m\u001b[43m,\u001b[49m\u001b[43m \u001b[49m\u001b[43mlabel\u001b[49m\u001b[43m=\u001b[49m\u001b[43mlabel\u001b[49m\u001b[43m)\u001b[49m\n",
      "\u001b[36mFile \u001b[39m\u001b[32m~/Desktop/study/quantum_ml/project/qmlvenv/lib/python3.12/site-packages/qiskit/circuit/quantumcircuit.py:2644\u001b[39m, in \u001b[36mQuantumCircuit._append_standard_gate\u001b[39m\u001b[34m(self, op, qargs, params, label)\u001b[39m\n\u001b[32m   2642\u001b[39m expanded_qargs = [\u001b[38;5;28mself\u001b[39m._qbit_argument_conversion(qarg) \u001b[38;5;28;01mfor\u001b[39;00m qarg \u001b[38;5;129;01min\u001b[39;00m qargs \u001b[38;5;129;01mor\u001b[39;00m []]\n\u001b[32m   2643\u001b[39m \u001b[38;5;28;01mfor\u001b[39;00m param \u001b[38;5;129;01min\u001b[39;00m params:\n\u001b[32m-> \u001b[39m\u001b[32m2644\u001b[39m     \u001b[43mGate\u001b[49m\u001b[43m.\u001b[49m\u001b[43mvalidate_parameter\u001b[49m\u001b[43m(\u001b[49m\u001b[43mop\u001b[49m\u001b[43m,\u001b[49m\u001b[43m \u001b[49m\u001b[43mparam\u001b[49m\u001b[43m)\u001b[49m\n\u001b[32m   2646\u001b[39m instructions = InstructionSet(resource_requester=circuit_scope.resolve_classical_resource)\n\u001b[32m   2647\u001b[39m \u001b[38;5;28;01mfor\u001b[39;00m qarg, _ \u001b[38;5;129;01min\u001b[39;00m Gate.broadcast_arguments(op, expanded_qargs, []):\n",
      "\u001b[36mFile \u001b[39m\u001b[32m~/Desktop/study/quantum_ml/project/qmlvenv/lib/python3.12/site-packages/qiskit/circuit/gate.py:261\u001b[39m, in \u001b[36mGate.validate_parameter\u001b[39m\u001b[34m(self, parameter)\u001b[39m\n\u001b[32m    259\u001b[39m     \u001b[38;5;28;01mreturn\u001b[39;00m parameter.item()\n\u001b[32m    260\u001b[39m \u001b[38;5;28;01melse\u001b[39;00m:\n\u001b[32m--> \u001b[39m\u001b[32m261\u001b[39m     \u001b[38;5;28;01mraise\u001b[39;00m CircuitError(\u001b[33mf\u001b[39m\u001b[33m\"\u001b[39m\u001b[33mInvalid param type \u001b[39m\u001b[38;5;132;01m{\u001b[39;00m\u001b[38;5;28mtype\u001b[39m(parameter)\u001b[38;5;132;01m}\u001b[39;00m\u001b[33m for gate \u001b[39m\u001b[38;5;132;01m{\u001b[39;00m\u001b[38;5;28mself\u001b[39m.name\u001b[38;5;132;01m}\u001b[39;00m\u001b[33m.\u001b[39m\u001b[33m\"\u001b[39m)\n",
      "\u001b[31mCircuitError\u001b[39m: \"Invalid param type <class 'numpy.ndarray'> for gate rx.\""
     ]
    }
   ],
   "source": [
    "qc = qsk.QuantumCircuit(10)\n",
    "\n",
    "\n",
    "\n",
    "\n",
    "qc = qsk.quantum_info.Clifford(qc)\n",
    "qc.to_circuit().draw(\"mpl\")"
   ]
  },
  {
   "cell_type": "code",
   "execution_count": 26,
   "id": "546ef06e",
   "metadata": {},
   "outputs": [
    {
     "data": {
      "text/plain": [
       "10"
      ]
     },
     "execution_count": 26,
     "metadata": {},
     "output_type": "execute_result"
    }
   ],
   "source": [
    "len(qc.to_dict()['destabilizer'])"
   ]
  },
  {
   "cell_type": "code",
   "execution_count": null,
   "id": "f13e08c5",
   "metadata": {},
   "outputs": [],
   "source": []
  }
 ],
 "metadata": {
  "kernelspec": {
   "display_name": "qmlvenv (3.12.3)",
   "language": "python",
   "name": "python3"
  },
  "language_info": {
   "codemirror_mode": {
    "name": "ipython",
    "version": 3
   },
   "file_extension": ".py",
   "mimetype": "text/x-python",
   "name": "python",
   "nbconvert_exporter": "python",
   "pygments_lexer": "ipython3",
   "version": "3.12.3"
  }
 },
 "nbformat": 4,
 "nbformat_minor": 5
}
