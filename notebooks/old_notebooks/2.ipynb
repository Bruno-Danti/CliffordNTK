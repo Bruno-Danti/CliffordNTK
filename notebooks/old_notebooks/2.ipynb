{
 "cells": [
  {
   "cell_type": "code",
   "execution_count": 1,
   "id": "d524edcb",
   "metadata": {},
   "outputs": [],
   "source": [
    "import pennylane as qml, numpy as np"
   ]
  },
  {
   "cell_type": "code",
   "execution_count": 2,
   "id": "b6fdc86c",
   "metadata": {},
   "outputs": [],
   "source": [
    "def CliffordRX(angle: int, wires):\n",
    "    \"\"\"\n",
    "    Returns the exp(-i theta/2 X) operator,\n",
    "    for theta ∈ {0, pi/2, pi, 3pi/2},\n",
    "    decomposed into basis operators accepted by the\n",
    "    qml 'default.clifford' device.\n",
    "\n",
    "    Args:\n",
    "        integer_angle (int): theta / (pi/2)\n",
    "    \"\"\"\n",
    "    if not isinstance(angle, (int, np.integer)):\n",
    "        print(type(angle))\n",
    "        raise TypeError(f\"angle = {angle} should be integer\")\n",
    "    if angle % 4 == 0:\n",
    "        qml.I(wires)\n",
    "    elif angle % 4 == 1:\n",
    "        qml.adjoint(qml.S(wires))\n",
    "        qml.H(wires)\n",
    "        qml.adjoint(qml.S(wires))\n",
    "    elif angle % 4 == 2:\n",
    "        qml.X(wires)\n",
    "    elif angle % 4 == 3:\n",
    "        qml.S(wires)\n",
    "        qml.H(wires)\n",
    "        qml.S(wires)\n",
    "\n",
    "def CliffordRY(angle: int, wires):\n",
    "    if not isinstance(angle, (int, np.integer)):\n",
    "        print(type(angle))\n",
    "        raise TypeError(f\"angle = {angle} is of type {type(angle)}. It should be integer\")\n",
    "    if angle % 4 == 0:\n",
    "        qml.I(wires)\n",
    "    elif angle % 4 == 1:\n",
    "        qml.H(wires)\n",
    "        qml.X(wires)\n",
    "    elif angle % 4 == 2:\n",
    "        qml.Y(wires)\n",
    "    elif angle % 4 ==3:\n",
    "        qml.X(wires)\n",
    "        qml.H(wires)\n",
    "\n",
    "def random_thetas(size):\n",
    "    possible_thetas = np.arange(4)\n",
    "    return np.random.choice(possible_thetas, size)\n",
    "\n",
    "def unit_vector(index, size):\n",
    "    return np.array([\n",
    "        1 if _ == index else 0\n",
    "        for _ in range(size)\n",
    "    ])\n",
    "\n",
    "def simple_circuit(thetas):\n",
    "    n_qubits = len(thetas)\n",
    "    for i in range(n_qubits):\n",
    "        CliffordRX(thetas[i], i)\n",
    "    \n",
    "    #measurements = [qml.expval(qml.Z(i)) for i in range(n_qubits)]\n",
    "    #return np.sum(measurements)\n",
    "    #return [qml.expval(qml.Z(i)) for i in range(n_qubits)]\n",
    "\n",
    "\n",
    "def simple_gate(thetas, wires):\n",
    "    # I should add here a \"check thetas has len 4, wires has len 2\"\n",
    "    CliffordRX(thetas[0], wires[0])\n",
    "    CliffordRX(thetas[1] ,wires[1])\n",
    "    qml.CNOT(wires[0], wires[1])\n",
    "    CliffordRY(thetas[2], wires[0])\n",
    "    CliffordRY(thetas[3], wires[1])\n",
    "\n",
    "def convoluting_layer(thetas, wires):\n",
    "    # This function should take in 10 wires, and 4 * 21 = 84 thetas.\n",
    "    ...\n",
    "\n",
    "def PaoloCircuit():\n",
    "    ..."
   ]
  },
  {
   "cell_type": "code",
   "execution_count": 3,
   "id": "00ecf4af",
   "metadata": {},
   "outputs": [],
   "source": [
    "def basis_encoding(x, n_qubits):\n",
    "    xbin = np.binary_repr(x, n_qubits)\n",
    "    for i in range(n_qubits):\n",
    "        if xbin[i] == '1':\n",
    "            qml.X(i)"
   ]
  },
  {
   "cell_type": "code",
   "execution_count": 4,
   "id": "295d95f5",
   "metadata": {},
   "outputs": [],
   "source": [
    "n_qubits = 4\n",
    "dev = qml.device('default.clifford', wires = [\"a\", \"b\", \"c\", \"d, e\"])\n",
    "\n",
    "@qml.qnode(dev)\n",
    "def f(thetas, x, dev):\n",
    "    basis_encoding(x, len(dev.wires))\n",
    "    simple_circuit(thetas)\n",
    "    return [qml.expval(qml.Z(i)) for i in range(len(dev.wires))]\n",
    "\n",
    "def grad_f(thetas, x):\n",
    "    out = []\n",
    "    for i in range(len(thetas)):\n",
    "        f_plus = np.sum(f(thetas + unit_vector(i, len(thetas)), x))\n",
    "        f_minus = np.sum(f(thetas - unit_vector(i, len(thetas)), x))\n",
    "        out.append((f_plus - f_minus) / 2)\n",
    "    return np.array(out)\n",
    "\n",
    "def empirical_NTK(thetas, x, y):\n",
    "    return np.dot(grad_f(thetas, x), grad_f(thetas, y))\n",
    "\n",
    "def analytic_NTK_estimator(x, y, n_paramters, n_shots):\n",
    "    return np.mean([\n",
    "        empirical_NTK(random_thetas(n_paramters), x, y) for _ in range(n_shots)\n",
    "    ])"
   ]
  },
  {
   "cell_type": "code",
   "execution_count": 5,
   "id": "df5a0954",
   "metadata": {},
   "outputs": [
    {
     "data": {
      "text/plain": [
       "Wires(['a', 'b', 'c', 'd, e'])"
      ]
     },
     "execution_count": 5,
     "metadata": {},
     "output_type": "execute_result"
    }
   ],
   "source": [
    "dev.wires"
   ]
  },
  {
   "cell_type": "code",
   "execution_count": 8,
   "id": "ff1c9c7a",
   "metadata": {},
   "outputs": [
    {
     "name": "stdout",
     "output_type": "stream",
     "text": [
      "0: ──X──S†──H──S†─╭I─╭I──────────┤  <Z>\n",
      "1: ───────────────├I─├I──────────┤  <Z>\n",
      "2: ───────────────├I─├I──────────┤  <Z>\n",
      "3: ───────────────╰I─╰I──S──H──S─┤  <Z>\n"
     ]
    }
   ],
   "source": [
    "print(qml.draw(f)(random_thetas(4), 8, dev))"
   ]
  },
  {
   "cell_type": "code",
   "execution_count": 154,
   "id": "7078f23e",
   "metadata": {},
   "outputs": [
    {
     "data": {
      "text/plain": [
       "np.float64(0.013333333333333334)"
      ]
     },
     "execution_count": 154,
     "metadata": {},
     "output_type": "execute_result"
    }
   ],
   "source": [
    "analytic_NTK_estimator(0, 10, n_qubits, 300)"
   ]
  },
  {
   "cell_type": "code",
   "execution_count": 123,
   "id": "c45390ae",
   "metadata": {},
   "outputs": [
    {
     "data": {
      "text/plain": [
       "4"
      ]
     },
     "execution_count": 123,
     "metadata": {},
     "output_type": "execute_result"
    }
   ],
   "source": [
    "len(dev.wires)"
   ]
  },
  {
   "cell_type": "code",
   "execution_count": 163,
   "id": "4b619342",
   "metadata": {},
   "outputs": [],
   "source": [
    "def all_thetas(n_parameters):\n",
    "    from itertools import product\n",
    "    return [\n",
    "        np.array(theta_combination) for theta_combination in product(range(4), repeat= n_parameters)\n",
    "    ]\n",
    "\n",
    "def exact_analytic_NTK(x, y, n_parameters):\n",
    "    return np.mean([\n",
    "        empirical_NTK(thetas, x, y) for thetas in all_thetas(n_parameters)\n",
    "    ])"
   ]
  },
  {
   "cell_type": "code",
   "execution_count": 168,
   "id": "214f9969",
   "metadata": {},
   "outputs": [
    {
     "data": {
      "text/plain": [
       "np.float64(1.0)"
      ]
     },
     "execution_count": 168,
     "metadata": {},
     "output_type": "execute_result"
    }
   ],
   "source": [
    "exact_analytic_NTK(0, 2, n_qubits)"
   ]
  },
  {
   "cell_type": "code",
   "execution_count": 129,
   "id": "a34eabba",
   "metadata": {},
   "outputs": [
    {
     "name": "stdout",
     "output_type": "stream",
     "text": [
      "[1 0 2 0]\n"
     ]
    },
    {
     "data": {
      "text/plain": [
       "(<Figure size 1000x500 with 1 Axes>, <Axes: >)"
      ]
     },
     "execution_count": 129,
     "metadata": {},
     "output_type": "execute_result"
    },
    {
     "data": {
      "image/png": "[encoded data removed]",
      "text/plain": [
       "<Figure size 1000x500 with 1 Axes>"
      ]
     },
     "metadata": {},
     "output_type": "display_data"
    }
   ],
   "source": [
    "thetas = random_thetas(n_qubits)\n",
    "print(thetas)\n",
    "qml.draw_mpl(f)(thetas, 11)"
   ]
  },
  {
   "cell_type": "code",
   "execution_count": 89,
   "id": "9caec0e8",
   "metadata": {},
   "outputs": [
    {
     "data": {
      "text/plain": [
       "np.float64(4.0)"
      ]
     },
     "execution_count": 89,
     "metadata": {},
     "output_type": "execute_result"
    }
   ],
   "source": [
    "out = np.sum(f([0,0, 0, 0], 0))\n",
    "out"
   ]
  },
  {
   "cell_type": "code",
   "execution_count": null,
   "id": "0ef9b7d9",
   "metadata": {},
   "outputs": [],
   "source": []
  },
  {
   "cell_type": "code",
   "execution_count": null,
   "id": "d3168783",
   "metadata": {},
   "outputs": [],
   "source": []
  }
 ],
 "metadata": {
  "kernelspec": {
   "display_name": "qmlvenv (3.12.3)",
   "language": "python",
   "name": "python3"
  },
  "language_info": {
   "codemirror_mode": {
    "name": "ipython",
    "version": 3
   },
   "file_extension": ".py",
   "mimetype": "text/x-python",
   "name": "python",
   "nbconvert_exporter": "python",
   "pygments_lexer": "ipython3",
   "version": "3.12.3"
  }
 },
 "nbformat": 4,
 "nbformat_minor": 5
}
