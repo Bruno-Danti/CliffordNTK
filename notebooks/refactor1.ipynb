{
 "cells": [
  {
   "cell_type": "code",
   "execution_count": null,
   "id": "aeda1430",
   "metadata": {},
   "outputs": [],
   "source": [
    "import qiskit as q, numpy as np, matplotlib.pyplot as plt, torch\n",
    "from qiskit import QuantumCircuit\n",
    "from qiskit.quantum_info import Statevector, Clifford, PauliList\n",
    "\n",
    "from torchvision.datasets import MNIST\n",
    "from torchvision.transforms import ToTensor, Resize\n",
    "\n"
   ]
  },
  {
   "cell_type": "code",
   "execution_count": null,
   "id": "cb8638b2",
   "metadata": {},
   "outputs": [],
   "source": []
  }
 ],
 "metadata": {
  "kernelspec": {
   "display_name": "venv (3.12.3)",
   "language": "python",
   "name": "python3"
  },
  "language_info": {
   "name": "python",
   "version": "3.12.3"
  }
 },
 "nbformat": 4,
 "nbformat_minor": 5
}
