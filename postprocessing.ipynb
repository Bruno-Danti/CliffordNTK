{
 "cells": [
  {
   "cell_type": "code",
   "execution_count": 1,
   "id": "f0488648",
   "metadata": {},
   "outputs": [],
   "source": [
    "import numpy as np, pandas as pd\n",
    "import matplotlib.pyplot as plt\n",
    "\n",
    "from torchvision.datasets import MNIST\n",
    "from torchvision.transforms import ToTensor\n",
    "\n",
    "\n",
    "\n",
    "mnist_train = MNIST(\"./data/download\",\n",
    "                    train = True,\n",
    "                    transform = ToTensor())\n",
    "\n",
    "mnist_test = MNIST(\"./data/download\",\n",
    "                    train = False,\n",
    "                    transform = ToTensor())"
   ]
  },
  {
   "cell_type": "code",
   "execution_count": null,
   "id": "7d278e6d",
   "metadata": {},
   "outputs": [],
   "source": [
    "K_tr_tr = np.loadtxt(\"./data/out/K_train_train.csv\", delimiter= ',')\n",
    "K_tr_tr = K_tr_tr + np.triu(K_tr_tr, 1).T\n",
    "\n",
    "K_ts_tr = np.loadtxt(\"./data/out/K_test_train.csv\", delimiter= \",\")"
   ]
  },
  {
   "cell_type": "code",
   "execution_count": 13,
   "id": "c4ab53b3",
   "metadata": {},
   "outputs": [],
   "source": [
    "max_n = 200\n",
    "n_images_test = 1013\n",
    "\n",
    "A = K_ts_tr[:, :max_n]\n",
    "B = K_tr_tr[:max_n, :max_n]\n",
    "Y_train = np.array([x for x in mnist_train.targets])[:max_n]\n",
    "Y_test = np.array([x for x in mnist_test.targets])[:n_images_test]"
   ]
  },
  {
   "cell_type": "code",
   "execution_count": 14,
   "id": "2969f744",
   "metadata": {},
   "outputs": [],
   "source": [
    "predictions = A @ np.linalg.inv(B) @ Y_train"
   ]
  },
  {
   "cell_type": "code",
   "execution_count": 16,
   "id": "c663f5e4",
   "metadata": {},
   "outputs": [
    {
     "data": {
      "text/plain": [
       "array([8.02082751, 0.41547971, 1.2969872 , ..., 6.48531405, 2.46558494,\n",
       "       7.02856581], shape=(1013,))"
      ]
     },
     "execution_count": 16,
     "metadata": {},
     "output_type": "execute_result"
    }
   ],
   "source": [
    "predictions"
   ]
  },
  {
   "cell_type": "code",
   "execution_count": 15,
   "id": "99e8118a",
   "metadata": {},
   "outputs": [
    {
     "data": {
      "text/plain": [
       "np.float64(0.0)"
      ]
     },
     "execution_count": 15,
     "metadata": {},
     "output_type": "execute_result"
    }
   ],
   "source": [
    "np.mean(\n",
    "    predictions == Y_test\n",
    ")"
   ]
  },
  {
   "cell_type": "code",
   "execution_count": 4,
   "id": "0c8548e0",
   "metadata": {},
   "outputs": [
    {
     "data": {
      "text/plain": [
       "((10000, 10000), (1013, 10000))"
      ]
     },
     "execution_count": 4,
     "metadata": {},
     "output_type": "execute_result"
    }
   ],
   "source": [
    "K_tr_tr.shape, K_ts_tr.shape"
   ]
  },
  {
   "cell_type": "code",
   "execution_count": null,
   "id": "fec3799f",
   "metadata": {},
   "outputs": [],
   "source": []
  }
 ],
 "metadata": {
  "kernelspec": {
   "display_name": "venv (3.12.3)",
   "language": "python",
   "name": "python3"
  },
  "language_info": {
   "codemirror_mode": {
    "name": "ipython",
    "version": 3
   },
   "file_extension": ".py",
   "mimetype": "text/x-python",
   "name": "python",
   "nbconvert_exporter": "python",
   "pygments_lexer": "ipython3",
   "version": "3.12.3"
  }
 },
 "nbformat": 4,
 "nbformat_minor": 5
}
