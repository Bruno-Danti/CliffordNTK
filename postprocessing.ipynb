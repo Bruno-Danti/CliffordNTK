{
 "cells": [
  {
   "cell_type": "code",
   "execution_count": 1,
   "id": "f0488648",
   "metadata": {},
   "outputs": [],
   "source": [
    "import numpy as np, pandas as pd\n",
    "import matplotlib.pyplot as plt\n",
    "\n",
    "from torchvision.datasets import MNIST\n",
    "from torchvision.transforms import ToTensor\n",
    "\n",
    "\n",
    "\n",
    "mnist_train = MNIST(\"./data/download\",\n",
    "                    train = True,\n",
    "                    transform = ToTensor())\n",
    "\n",
    "mnist_test = MNIST(\"./data/download\",\n",
    "                    train = False,\n",
    "                    transform = ToTensor())"
   ]
  },
  {
   "cell_type": "code",
   "execution_count": 62,
   "id": "7d278e6d",
   "metadata": {},
   "outputs": [],
   "source": [
    "K_tr_tr = np.loadtxt(\"./data/out/K_train_train.csv\", delimiter= ',')\n",
    "K_tr_tr = K_tr_tr + np.triu(K_tr_tr, 1).T\n",
    "\n",
    "K_ts_tr = np.loadtxt(\"./data/out/K_test_train.csv\", delimiter= \",\")"
   ]
  },
  {
   "cell_type": "code",
   "execution_count": 78,
   "id": "ed0239c5",
   "metadata": {},
   "outputs": [
    {
     "data": {
      "text/plain": [
       "array([1.08880583e-03, 1.23254998e-03, 1.35146786e-03, ...,\n",
       "       1.94864429e+02, 2.82849732e+02, 2.74060662e+03], shape=(5000,))"
      ]
     },
     "execution_count": 78,
     "metadata": {},
     "output_type": "execute_result"
    }
   ],
   "source": [
    "eigvals, eigvecs = np.linalg.eigh(K_tr_tr[:5000, :5000])\n",
    "eigvals"
   ]
  },
  {
   "cell_type": "code",
   "execution_count": 112,
   "id": "c4ab53b3",
   "metadata": {},
   "outputs": [],
   "source": [
    "max_n = 300\n",
    "n_images_test = 1013\n",
    "\n",
    "def success_rate(n_images_tr, n_images_ts, tolerance: float = 0):\n",
    "    A = K_ts_tr[:, :n_images_tr]\n",
    "    B = K_tr_tr[:n_images_tr, :n_images_tr]\n",
    "    Y_train = np.array([x for x in mnist_train.targets])[:n_images_tr] %2\n",
    "    Y_test = np.array([x for x in mnist_test.targets])[:n_images_ts] %2\n",
    "    predictions = A @ np.linalg.inv(B) @ Y_train\n",
    "\n",
    "    return np.mean(\n",
    "        np.abs(\n",
    "            np.round(predictions) - Y_test\n",
    "        ) <= tolerance\n",
    "    )"
   ]
  },
  {
   "cell_type": "code",
   "execution_count": null,
   "id": "70cd917c",
   "metadata": {},
   "outputs": [
    {
     "data": {
      "text/plain": [
       "np.float64(0.9358341559723593)"
      ]
     },
     "execution_count": 126,
     "metadata": {},
     "output_type": "execute_result"
    }
   ],
   "source": [
    "success_rate(1000, n_images_test)"
   ]
  },
  {
   "cell_type": "code",
   "execution_count": 79,
   "id": "6844bee0",
   "metadata": {},
   "outputs": [
    {
     "data": {
      "image/png": "[encoded data removed]",
      "text/plain": [
       "<Figure size 640x480 with 1 Axes>"
      ]
     },
     "metadata": {},
     "output_type": "display_data"
    }
   ],
   "source": [
    "max_ns = np.array([5000])\n",
    "ys = []\n",
    "for n in max_ns:\n",
    "    ys.append(success_rate(n, n_images_test))\n",
    "\n",
    "plt.plot(max_ns, ys)\n",
    "plt.show()"
   ]
  },
  {
   "cell_type": "code",
   "execution_count": 80,
   "id": "19f37df5",
   "metadata": {},
   "outputs": [
    {
     "data": {
      "text/plain": [
       "[np.float64(0.7393879565646594)]"
      ]
     },
     "execution_count": 80,
     "metadata": {},
     "output_type": "execute_result"
    }
   ],
   "source": [
    "ys"
   ]
  },
  {
   "cell_type": "code",
   "execution_count": null,
   "id": "2969f744",
   "metadata": {},
   "outputs": [],
   "source": [
    "predictions = A @ np.linalg.inv(B) @ Y_train"
   ]
  },
  {
   "cell_type": "code",
   "execution_count": 51,
   "id": "c663f5e4",
   "metadata": {},
   "outputs": [
    {
     "data": {
      "text/plain": [
       "array([7.10755347, 0.06015539, 2.79625055, ..., 5.71666206, 1.96744021,\n",
       "       7.43540055], shape=(1013,))"
      ]
     },
     "execution_count": 51,
     "metadata": {},
     "output_type": "execute_result"
    }
   ],
   "source": [
    "predictions"
   ]
  },
  {
   "cell_type": "code",
   "execution_count": 52,
   "id": "e15575f0",
   "metadata": {},
   "outputs": [
    {
     "data": {
      "text/plain": [
       "array([7, 2, 1, ..., 4, 1, 7], shape=(1013,))"
      ]
     },
     "execution_count": 52,
     "metadata": {},
     "output_type": "execute_result"
    }
   ],
   "source": [
    "Y_test"
   ]
  },
  {
   "cell_type": "code",
   "execution_count": 54,
   "id": "99e8118a",
   "metadata": {},
   "outputs": [
    {
     "data": {
      "text/plain": [
       "np.float64(0.5903257650542941)"
      ]
     },
     "execution_count": 54,
     "metadata": {},
     "output_type": "execute_result"
    }
   ],
   "source": [
    "np.mean(\n",
    "    np.abs(np.round(predictions) - Y_test) <= 1\n",
    ")"
   ]
  },
  {
   "cell_type": "code",
   "execution_count": 4,
   "id": "0c8548e0",
   "metadata": {},
   "outputs": [
    {
     "data": {
      "text/plain": [
       "((10000, 10000), (1013, 10000))"
      ]
     },
     "execution_count": 4,
     "metadata": {},
     "output_type": "execute_result"
    }
   ],
   "source": [
    "K_tr_tr.shape, K_ts_tr.shape"
   ]
  },
  {
   "cell_type": "code",
   "execution_count": null,
   "id": "fec3799f",
   "metadata": {},
   "outputs": [],
   "source": []
  }
 ],
 "metadata": {
  "kernelspec": {
   "display_name": "venv (3.12.3)",
   "language": "python",
   "name": "python3"
  },
  "language_info": {
   "codemirror_mode": {
    "name": "ipython",
    "version": 3
   },
   "file_extension": ".py",
   "mimetype": "text/x-python",
   "name": "python",
   "nbconvert_exporter": "python",
   "pygments_lexer": "ipython3",
   "version": "3.12.3"
  }
 },
 "nbformat": 4,
 "nbformat_minor": 5
}
