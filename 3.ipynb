{
 "cells": [
  {
   "cell_type": "code",
   "execution_count": 1,
   "id": "28e63786",
   "metadata": {},
   "outputs": [],
   "source": [
    "import pennylane as qml, numpy as np\n",
    "\n",
    "def CliffordRX(angle: int, wires: \"qml.Wires\"):\n",
    "    \"\"\"\n",
    "    Returns the exp(-i theta/2 X) operator,\n",
    "    for theta ∈ {0, pi/2, pi, 3pi/2},\n",
    "    decomposed into basis operators accepted by the\n",
    "    qml 'default.clifford' device.\n",
    "\n",
    "    Args:\n",
    "        integer_angle (int): theta / (pi/2)\n",
    "    \"\"\"\n",
    "    if not isinstance(angle, (int, np.integer)):\n",
    "        print(type(angle))\n",
    "        raise TypeError(f\"angle = {angle} should be integer\")\n",
    "    if angle % 4 == 0:\n",
    "        #qml.I(wires)\n",
    "        return\n",
    "    elif angle % 4 == 1:\n",
    "        qml.adjoint(qml.S(wires))\n",
    "        qml.H(wires)\n",
    "        qml.adjoint(qml.S(wires))\n",
    "    elif angle % 4 == 2:\n",
    "        qml.X(wires)\n",
    "    elif angle % 4 == 3:\n",
    "        qml.S(wires)\n",
    "        qml.H(wires)\n",
    "        qml.S(wires)\n",
    "\n",
    "def CliffordRY(angle: int, wires: \"qml.Wires\"):\n",
    "    if not isinstance(angle, (int, np.integer)):\n",
    "        print(type(angle))\n",
    "        raise TypeError(f\"angle = {angle} is of type {type(angle)}. It should be integer\")\n",
    "    if angle % 4 == 0:\n",
    "        #qml.I(wires)\n",
    "        return\n",
    "    elif angle % 4 == 1:\n",
    "        qml.H(wires)\n",
    "        qml.X(wires)\n",
    "    elif angle % 4 == 2:\n",
    "        qml.Y(wires)\n",
    "    elif angle % 4 ==3:\n",
    "        qml.X(wires)\n",
    "        qml.H(wires)\n",
    "\n",
    "def random_angles(size: int | list[int]) -> np.ndarray:\n",
    "    possible_thetas = np.arange(4)\n",
    "    return np.random.choice(possible_thetas, size)\n",
    "\n",
    "def unit_vector(index: int, size: int):\n",
    "    return np.array([\n",
    "        1 if _ == index else 0\n",
    "        for _ in range(size)\n",
    "    ])\n",
    "\n",
    "def basis_encoding(x: int, wires: \"qml.Wires\"):\n",
    "    xbin = np.binary_repr(x, wires.__len__())\n",
    "    for i in range(len(wires)):\n",
    "        if xbin[i] == '1':\n",
    "            qml.X(wires[i])\n",
    "\n",
    "def simple_test_circuit(angles: list[int], wires: \"qml.Wires\"):\n",
    "    n_qubits = len(angles)\n",
    "    for i in range(n_qubits):\n",
    "        CliffordRX(angles[i], wires[i])\n",
    "\n",
    "def sum_of_expvals(f):\n",
    "    \"\"\"\n",
    "    Decorator to make quantum functions return a sum of measured operators rather than\n",
    "    an array of them.\n",
    "    \"\"\"\n",
    "    def wrapper(*args, **kwargs):\n",
    "        return np.sum(f(*args, **kwargs))\n",
    "    return wrapper\n",
    "\n",
    "def parameter_shift_rule_gradient(f: \"function\", angles: np.ndarray[int], *args, **kwargs):\n",
    "    out = np.empty_like(angles)\n",
    "    for i in np.ndindex(angles.shape):\n",
    "        original_angle = angles[i]  # Will need to be restored at the end of loop\n",
    "        angles[i] += 1\n",
    "        f_plus = f(angles, *args, **kwargs)\n",
    "        angles[i] -= 2\n",
    "        f_minus = f(angles, *args, **kwargs)\n",
    "        angles[i] = original_angle\n",
    "        out[i] = (f_plus - f_minus) / 2\n",
    "    return out\n",
    "\n",
    "def empirical_NTK(f: \"function\", angles: np.ndarray[int], x, y):\n",
    "    return np.sum(\n",
    "        parameter_shift_rule_gradient(f, angles, x)\n",
    "        *\n",
    "        parameter_shift_rule_gradient(f, angles, y)\n",
    "    )\n",
    "\n",
    "def analytic_NTK(f: \"function\", x, y, angles_shape: tuple[int], n_shots: int):\n",
    "    return np.mean([\n",
    "        empirical_NTK(\n",
    "            f, random_angles(angles_shape), x, y\n",
    "        )\n",
    "        for _ in range(n_shots)\n",
    "    ])\n",
    "\n",
    "def elementary_2_qubit_gate(angles: np.ndarray[int], wires: \"qml.Wires\"):\n",
    "    if np.shape(angles) != (4,):\n",
    "        raise ValueError(f\"angles has shape {np.shape(angles)}. It should be (4,)\")\n",
    "    if len(wires) != 2:\n",
    "        raise ValueError(f\"This gate acts on 2 qubits, but {len(wires)} wires were provided.\")\n",
    "    #print(wires)\n",
    "    CliffordRX(angles[0], wires[0])\n",
    "    CliffordRX(angles[1], wires[1])\n",
    "    qml.CNOT([wires[0], wires[1]])\n",
    "    CliffordRY(angles[2], wires[0])\n",
    "    CliffordRY(angles[3], wires[1])\n",
    "\n",
    "\n",
    "def layer(angles: np.ndarray[int], wires: \"qml.Wires\"):\n",
    "    if np.shape(angles) != (4, 21):\n",
    "        raise ValueError(f\"angles has shape {np.shape(angles)}. It should be (4,21)\")\n",
    "    if len(wires) != 10:\n",
    "        raise ValueError(f\"This gate acts on 10 qubits, but {len(wires)} wires were provided.\")\n",
    "    \n",
    "    i = 0\n",
    "    def eg(wires):\n",
    "        nonlocal i\n",
    "        elementary_2_qubit_gate(angles[:, i], wires)\n",
    "        i+=1\n",
    "    \n",
    "    eg([wires[8], wires[9]]); eg([wires[6], wires[7]])\n",
    "    eg([wires[7], wires[9]]); eg([wires[6], wires[8]])\n",
    "    eg([wires[8], wires[9]]); eg([wires[6], wires[7]]); eg([wires[4], wires[5]])\n",
    "    eg([wires[5], wires[7]]); eg([wires[4], wires[6]])\n",
    "    eg([wires[6], wires[7]]); eg([wires[4], wires[5]]); eg([wires[2], wires[3]])\n",
    "    eg([wires[3], wires[5]]); eg([wires[2], wires[4]])\n",
    "    eg([wires[4], wires[5]]); eg([wires[2], wires[3]]); eg([wires[0], wires[1]])\n",
    "    eg([wires[1], wires[3]]); eg([wires[0], wires[2]])\n",
    "    eg([wires[2], wires[3]]); eg([wires[0], wires[1]])\n",
    "\n",
    "def paolo_circuit(angles: np.ndarray[int], wires):\n",
    "    if np.shape(angles) != (4, 21, 3):\n",
    "        raise ValueError(f\"angles has shape {np.shape(angles)}. It should be (4,21,3)\")\n",
    "    for i in range(3):\n",
    "        #print(f\"Building layer {i}\")\n",
    "        layer(angles[:,:,i], wires)\n",
    "        qml.I(wires[0])\n",
    "\n",
    "\n"
   ]
  },
  {
   "cell_type": "code",
   "execution_count": 35,
   "id": "18265dc3",
   "metadata": {},
   "outputs": [],
   "source": [
    "wires = [f\"{letter}{i}\" for i in range(5) for letter in [\"y\", \"x\"]]\n",
    "dev = qml.device('default.qubit', wires = wires)\n",
    "\n",
    "#@sum_of_expvals\n",
    "@qml.qnode(dev)\n",
    "def paolo_f(angles):\n",
    "    qml.AmplitudeEmbedding([1/np.sqrt(2), 1/np.sqrt(2)], dev.wires, 0, True)\n",
    "    qml.Snapshot(\"Encoded state\")\n",
    "    qml.Snapshot(measurement=qml.expval(qml.Z(\"x4\")))\n",
    "    paolo_circuit(angles, dev.wires)\n",
    "    #print(\"paolo_circuit succesfully completed\")\n",
    "    ops = [qml.expval(qml.Z(wire)) for wire in dev.wires]\n",
    "    #print(\"ops successfully computed\")\n",
    "    return ops"
   ]
  },
  {
   "cell_type": "code",
   "execution_count": 36,
   "id": "05e83b4a",
   "metadata": {},
   "outputs": [
    {
     "name": "stdout",
     "output_type": "stream",
     "text": [
      "y0: ─╭|Ψ⟩──|Snap|─╭●───────────────────────────────────────╭●─╭●─╭I─╭●──────────────────────── ···\n",
      "x0: ─├|Ψ⟩──|Snap|─╰X────────────────────────────────────╭●─│──╰X─├I─╰X──────────────────────── ···\n",
      "y1: ─├|Ψ⟩──|Snap|─╭●──────────────────────────────╭●─╭●─│──╰X─╭●─├I─╭●──────────────────────╭● ···\n",
      "x1: ─├|Ψ⟩──|Snap|─╰X───────────────────────────╭●─│──╰X─╰X────╰X─├I─╰X───────────────────╭●─│─ ···\n",
      "y2: ─├|Ψ⟩──|Snap|─╭●─────────────────────╭●─╭●─│──╰X─╭●──────────├I─╭●─────────────╭●─╭●─│──╰X ···\n",
      "x2: ─├|Ψ⟩──|Snap|─╰X──────────────────╭●─│──╰X─╰X────╰X──────────├I─╰X──────────╭●─│──╰X─╰X─── ···\n",
      "y3: ─├|Ψ⟩──|Snap|─╭●────────────╭●─╭●─│──╰X─╭●───────────────────├I─╭●────╭●─╭●─│──╰X─╭●────── ···\n",
      "x3: ─├|Ψ⟩──|Snap|─╰X─────────╭●─│──╰X─╰X────╰X───────────────────├I─╰X─╭●─│──╰X─╰X────╰X────── ···\n",
      "y4: ─├|Ψ⟩──|Snap|─────────╭●─│──╰X─╭●────────────────────────────├I─╭●─│──╰X─╭●─────────────── ···\n",
      "x4: ─╰|Ψ⟩──|Snap|──|Snap|─╰X─╰X────╰X────────────────────────────╰I─╰X─╰X────╰X─────────────── ···\n",
      "\n",
      "y0: ··· ───────╭●─╭●─╭I─╭●───────────────────────────────╭●─╭●─╭I─┤  <Z>\n",
      "x0: ··· ────╭●─│──╰X─├I─╰X────────────────────────────╭●─│──╰X─├I─┤  <Z>\n",
      "y1: ··· ─╭●─│──╰X─╭●─├I─╭●──────────────────────╭●─╭●─│──╰X─╭●─├I─┤  <Z>\n",
      "x1: ··· ─╰X─╰X────╰X─├I─╰X───────────────────╭●─│──╰X─╰X────╰X─├I─┤  <Z>\n",
      "y2: ··· ─╭●──────────├I─╭●─────────────╭●─╭●─│──╰X─╭●──────────├I─┤  <Z>\n",
      "x2: ··· ─╰X──────────├I─╰X──────────╭●─│──╰X─╰X────╰X──────────├I─┤  <Z>\n",
      "y3: ··· ─────────────├I─╭●────╭●─╭●─│──╰X─╭●───────────────────├I─┤  <Z>\n",
      "x3: ··· ─────────────├I─╰X─╭●─│──╰X─╰X────╰X───────────────────├I─┤  <Z>\n",
      "y4: ··· ─────────────├I─╭●─│──╰X─╭●────────────────────────────├I─┤  <Z>\n",
      "x4: ··· ─────────────╰I─╰X─╰X────╰X────────────────────────────╰I─┤  <Z>\n"
     ]
    }
   ],
   "source": [
    "angles = np.zeros([4, 21, 3], dtype=int)\n",
    "#angles[2,18,2] = 2\n",
    "print(qml.draw(paolo_f)(angles))"
   ]
  },
  {
   "cell_type": "code",
   "execution_count": 37,
   "id": "b7ac98c4",
   "metadata": {},
   "outputs": [
    {
     "data": {
      "text/plain": [
       "{'Encoded state': array([0.70710678+0.j, 0.70710678+0.j, 0.        +0.j, ...,\n",
       "        0.        +0.j, 0.        +0.j, 0.        +0.j], shape=(1024,)),\n",
       " 1: np.float64(0.0),\n",
       " 'execution_results': [np.float64(0.9999999999999998),\n",
       "  np.float64(0.9999999999999998),\n",
       "  np.float64(0.9999999999999998),\n",
       "  np.float64(0.9999999999999998),\n",
       "  np.float64(0.9999999999999998),\n",
       "  np.float64(0.9999999999999998),\n",
       "  np.float64(0.9999999999999998),\n",
       "  np.float64(0.9999999999999998),\n",
       "  np.float64(0.9999999999999998),\n",
       "  np.float64(0.0)]}"
      ]
     },
     "execution_count": 37,
     "metadata": {},
     "output_type": "execute_result"
    }
   ],
   "source": [
    "np.shape(qml.snapshots(paolo_f)(angles)[\"Encoded state\"])\n",
    "np.sum(np.abs(qml.snapshots(paolo_f)(angles)[\"Encoded state\"])**2)\n",
    "qml.snapshots(paolo_f)(angles)"
   ]
  },
  {
   "cell_type": "code",
   "execution_count": null,
   "id": "4aeab531",
   "metadata": {},
   "outputs": [
    {
     "name": "stdout",
     "output_type": "stream",
     "text": [
      "0.01939990600112651\n"
     ]
    }
   ],
   "source": [
    "from timeit import default_timer as timer\n",
    "tst = timer()\n",
    "rand_ang = random_angles([4,21,3])\n",
    "out = paolo_f(rand_ang)\n",
    "tend = timer()\n",
    "print(tend - tst)"
   ]
  },
  {
   "cell_type": "code",
   "execution_count": 14,
   "id": "a6009a6d",
   "metadata": {},
   "outputs": [],
   "source": [
    "wires = [f\"q{i}\" for i in range(5)]\n",
    "dev = qml.device('default.clifford', wires = wires)\n",
    "\n",
    "@sum_of_expvals\n",
    "@qml.qnode(dev)\n",
    "def simple_f(angles, input):\n",
    "    basis_encoding(input, dev.wires)\n",
    "    simple_test_circuit(angles, dev.wires)\n",
    "    ops = [qml.expval(qml.Z(wire)) for wire in dev.wires]\n",
    "    return ops"
   ]
  },
  {
   "cell_type": "code",
   "execution_count": 15,
   "id": "046d194c",
   "metadata": {},
   "outputs": [
    {
     "data": {
      "text/plain": [
       "np.float64(-1.0)"
      ]
     },
     "execution_count": 15,
     "metadata": {},
     "output_type": "execute_result"
    }
   ],
   "source": [
    "simple_f(random_angles(5), 3)"
   ]
  },
  {
   "cell_type": "code",
   "execution_count": 16,
   "id": "56dc23c7",
   "metadata": {},
   "outputs": [
    {
     "name": "stdout",
     "output_type": "stream",
     "text": [
      "\n"
     ]
    }
   ],
   "source": [
    "print(qml.draw(simple_f)(random_angles(5), 0))"
   ]
  },
  {
   "cell_type": "code",
   "execution_count": 36,
   "id": "65ecd11c",
   "metadata": {},
   "outputs": [
    {
     "data": {
      "text/plain": [
       "np.float64(1.474)"
      ]
     },
     "execution_count": 36,
     "metadata": {},
     "output_type": "execute_result"
    }
   ],
   "source": [
    "analytic_NTK(simple_f, 0, 1, len(wires), 500)"
   ]
  },
  {
   "cell_type": "code",
   "execution_count": 37,
   "id": "3d4c8667",
   "metadata": {},
   "outputs": [
    {
     "data": {
      "text/plain": [
       "1024"
      ]
     },
     "execution_count": 37,
     "metadata": {},
     "output_type": "execute_result"
    }
   ],
   "source": [
    "4**5"
   ]
  },
  {
   "cell_type": "code",
   "execution_count": 5,
   "id": "21e973ad",
   "metadata": {},
   "outputs": [
    {
     "name": "stdout",
     "output_type": "stream",
     "text": [
      "0.0\n"
     ]
    }
   ],
   "source": [
    "#out = simple_f(random_angles(len(wires)), 0)\n",
    "\n",
    "print(simple_f(random_angles(len(wires)), 0))\n"
   ]
  },
  {
   "cell_type": "code",
   "execution_count": 36,
   "id": "32744f2a",
   "metadata": {},
   "outputs": [
    {
     "data": {
      "text/plain": [
       "numpy.float64"
      ]
     },
     "execution_count": 36,
     "metadata": {},
     "output_type": "execute_result"
    }
   ],
   "source": [
    "type(out[0])"
   ]
  },
  {
   "cell_type": "code",
   "execution_count": null,
   "id": "92763b08",
   "metadata": {},
   "outputs": [],
   "source": []
  }
 ],
 "metadata": {
  "kernelspec": {
   "display_name": "qmlvenv (3.12.3)",
   "language": "python",
   "name": "python3"
  },
  "language_info": {
   "codemirror_mode": {
    "name": "ipython",
    "version": 3
   },
   "file_extension": ".py",
   "mimetype": "text/x-python",
   "name": "python",
   "nbconvert_exporter": "python",
   "pygments_lexer": "ipython3",
   "version": "3.12.3"
  }
 },
 "nbformat": 4,
 "nbformat_minor": 5
}
