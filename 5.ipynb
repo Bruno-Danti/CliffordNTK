{
 "cells": [
  {
   "cell_type": "code",
   "execution_count": 1,
   "id": "c52887fb",
   "metadata": {},
   "outputs": [],
   "source": [
    "import numpy as np, pennylane as qml, torch, matplotlib.pyplot as plt\n",
    "from torchvision import datasets\n",
    "from torchvision.transforms import ToTensor\n",
    "from timeit import default_timer\n",
    "\n",
    "\n",
    "def CliffordRX(angle: int, wires: \"qml.Wires\"):\n",
    "    \"\"\"\n",
    "    Returns the exp(-i theta/2 X) operator,\n",
    "    for theta ∈ {0, pi/2, pi, 3pi/2},\n",
    "    decomposed into basis operators accepted by the\n",
    "    qml 'default.clifford' device.\n",
    "\n",
    "    Args:\n",
    "        integer_angle (int): theta / (pi/2)\n",
    "    \"\"\"\n",
    "    if not isinstance(angle, (int, np.integer)):\n",
    "        print(type(angle))\n",
    "        raise TypeError(f\"angle = {angle} should be integer\")\n",
    "    if angle % 4 == 0:\n",
    "        #qml.I(wires)\n",
    "        return\n",
    "    elif angle % 4 == 1:\n",
    "        qml.adjoint(qml.S(wires))\n",
    "        qml.H(wires)\n",
    "        qml.adjoint(qml.S(wires))\n",
    "    elif angle % 4 == 2:\n",
    "        qml.X(wires)\n",
    "    elif angle % 4 == 3:\n",
    "        qml.S(wires)\n",
    "        qml.H(wires)\n",
    "        qml.S(wires)\n",
    "\n",
    "def CliffordRY(angle: int, wires: \"qml.Wires\"):\n",
    "    if not isinstance(angle, (int, np.integer)):\n",
    "        print(type(angle))\n",
    "        raise TypeError(f\"angle = {angle} is of type {type(angle)}. It should be integer\")\n",
    "    if angle % 4 == 0:\n",
    "        #qml.I(wires)\n",
    "        return\n",
    "    elif angle % 4 == 1:\n",
    "        qml.H(wires)\n",
    "        qml.X(wires)\n",
    "    elif angle % 4 == 2:\n",
    "        qml.Y(wires)\n",
    "    elif angle % 4 ==3:\n",
    "        qml.X(wires)\n",
    "        qml.H(wires)\n",
    "\n",
    "def random_angles(size: int | list[int]) -> np.ndarray:\n",
    "    possible_thetas = np.arange(4)\n",
    "    return np.random.choice(possible_thetas, size)\n",
    "\n",
    "def unit_vector(index: int, size: int):\n",
    "    return np.array([\n",
    "        1 if _ == index else 0\n",
    "        for _ in range(size)\n",
    "    ])\n",
    "\n",
    "def basis_encoding(x: int, wires: \"qml.Wires\"):\n",
    "    xbin = np.binary_repr(x, wires.__len__())\n",
    "    for i in range(len(wires)):\n",
    "        if xbin[i] == '1':\n",
    "            qml.X(wires[i])\n",
    "\n",
    "def simple_test_circuit(angles: list[int], wires: \"qml.Wires\"):\n",
    "    n_qubits = len(angles)\n",
    "    for i in range(n_qubits):\n",
    "        CliffordRX(angles[i], wires[i])\n",
    "\n",
    "def sum_of_expvals(f):\n",
    "    \"\"\"\n",
    "    Decorator to make quantum functions return a sum of measured operators rather than\n",
    "    an array of them.\n",
    "    \"\"\"\n",
    "    def wrapper(*args, **kwargs):\n",
    "        return np.sum(f(*args, **kwargs))\n",
    "    return wrapper\n",
    "\n",
    "def parameter_shift_rule_gradient(f: \"function\", angles: np.ndarray[int], *args, **kwargs):\n",
    "    out = np.empty_like(angles)\n",
    "    for i in np.ndindex(angles.shape):\n",
    "        original_angle = angles[i]  # Will need to be restored at the end of loop\n",
    "        angles[i] += 1\n",
    "        f_plus = f(angles, *args, **kwargs)\n",
    "        angles[i] -= 2\n",
    "        f_minus = f(angles, *args, **kwargs)\n",
    "        angles[i] = original_angle\n",
    "        out[i] = (f_plus - f_minus) / 2\n",
    "    return out\n",
    "\n",
    "def empirical_NTK(f: \"function\", angles: np.ndarray[int], x, y):\n",
    "    return np.sum(\n",
    "        parameter_shift_rule_gradient(f, angles, x)\n",
    "        *\n",
    "        parameter_shift_rule_gradient(f, angles, y)\n",
    "    )\n",
    "\n",
    "def analytic_NTK(f: \"function\", x, y, angles_shape: tuple[int], n_shots: int):\n",
    "    return np.mean([\n",
    "        empirical_NTK(\n",
    "            f, random_angles(angles_shape), x, y\n",
    "        )\n",
    "        for _ in range(n_shots)\n",
    "    ])\n",
    "\n",
    "def elementary_2_qubit_gate(angles: np.ndarray[int], wires: \"qml.Wires\"):\n",
    "    if np.shape(angles) != (4,):\n",
    "        raise ValueError(f\"angles has shape {np.shape(angles)}. It should be (4,)\")\n",
    "    if len(wires) != 2:\n",
    "        raise ValueError(f\"This gate acts on 2 qubits, but {len(wires)} wires were provided.\")\n",
    "    #print(wires)\n",
    "    CliffordRX(angles[0], wires[0])\n",
    "    CliffordRX(angles[1], wires[1])\n",
    "    qml.CNOT([wires[0], wires[1]])\n",
    "    CliffordRY(angles[2], wires[0])\n",
    "    CliffordRY(angles[3], wires[1])\n",
    "\n",
    "\n",
    "def layer(angles: np.ndarray[int], wires: \"qml.Wires\"):\n",
    "    if np.shape(angles) != (4, 21):\n",
    "        raise ValueError(f\"angles has shape {np.shape(angles)}. It should be (4,21)\")\n",
    "    if len(wires) != 10:\n",
    "        raise ValueError(f\"This gate acts on 10 qubits, but {len(wires)} wires were provided.\")\n",
    "    \n",
    "    i = 0\n",
    "    def eg(wires):\n",
    "        nonlocal i\n",
    "        elementary_2_qubit_gate(angles[:, i], wires)\n",
    "        i+=1\n",
    "    \n",
    "    eg([wires[8], wires[9]]); eg([wires[6], wires[7]])\n",
    "    eg([wires[7], wires[9]]); eg([wires[6], wires[8]])\n",
    "    eg([wires[8], wires[9]]); eg([wires[6], wires[7]]); eg([wires[4], wires[5]])\n",
    "    eg([wires[5], wires[7]]); eg([wires[4], wires[6]])\n",
    "    eg([wires[6], wires[7]]); eg([wires[4], wires[5]]); eg([wires[2], wires[3]])\n",
    "    eg([wires[3], wires[5]]); eg([wires[2], wires[4]])\n",
    "    eg([wires[4], wires[5]]); eg([wires[2], wires[3]]); eg([wires[0], wires[1]])\n",
    "    eg([wires[1], wires[3]]); eg([wires[0], wires[2]])\n",
    "    eg([wires[2], wires[3]]); eg([wires[0], wires[1]])\n",
    "\n",
    "def paolo_circuit(angles: np.ndarray[int], wires):\n",
    "    if np.shape(angles) != (4, 21, 3):\n",
    "        raise ValueError(f\"angles has shape {np.shape(angles)}. It should be (4,21,3)\")\n",
    "    for i in range(3):\n",
    "        #print(f\"Building layer {i}\")\n",
    "        layer(angles[:,:,i], wires)\n",
    "        qml.I(wires[0])\n",
    "\n",
    "def get_image(idx: int, dataset):\n",
    "    image, label = dataset[idx]\n",
    "    padded_image = torch.zeros([32, 32])\n",
    "    padded_image[:28, :28] = image.squeeze()[:, :]\n",
    "    return padded_image\n",
    "\n",
    "def img_to_vec(image: torch.Tensor):\n",
    "    n = int(np.log2(image.shape[0]))  # Image should be a 2^n x 2^n tensor\n",
    "    image = image.reshape([2 for i in range(2*n)])  # Convert tensor indices from y,x to y0,y1,...,yn-1,x0,x1,...,xn-1\n",
    "    image = image.permute([i+j for i in range(n) for j in [0, n]])  # Permute indices from y0,y1,...,yn-1,x0,x1,...,xn-1 to y0,x0,y1,x1,...,yn-1,xn-1\n",
    "    return image.flatten()\n",
    "\n"
   ]
  },
  {
   "cell_type": "code",
   "execution_count": 5,
   "id": "7ab37ea7",
   "metadata": {},
   "outputs": [],
   "source": [
    "wires = [f\"{letter}{i}\" for i in range(5) for letter in [\"y\", \"x\"]]\n",
    "dev = qml.device('lightning.qubit', wires = wires)\n",
    "\n",
    "@sum_of_expvals\n",
    "@qml.qnode(dev)\n",
    "def paolo_f(angles, image):\n",
    "    qml.AmplitudeEmbedding(\n",
    "        img_to_vec(image), dev.wires, normalize=True\n",
    "    )\n",
    "\n",
    "    #qml.Snapshot(\"Encoded state\")\n",
    "    paolo_circuit(angles, dev.wires)\n",
    "    ops = [qml.expval(qml.Z(wire)) for wire in dev.wires]\n",
    "    return ops\n",
    "\n",
    "\n",
    "mnist_train = datasets.MNIST(\"./data\",\n",
    "                             train= True,\n",
    "                             transform= ToTensor(),\n",
    "                             download= True)"
   ]
  },
  {
   "cell_type": "code",
   "execution_count": null,
   "id": "caf0a02c",
   "metadata": {},
   "outputs": [],
   "source": [
    "\"\"\"\n",
    "To compute the NTK(img1, img2) between two images, you should run the following code.\n",
    "Note however than computing NTK(img1, img2) for a single pair of images on a single shot takes ~40 seconds on default.qubit\n",
    "and ~25 seconds on lightning.qubit,\n",
    "making computation of NTK(mnist_train, mnist_train^T) for many shots unfeasible.\n",
    "\"\"\"\n",
    "img1, img2 = get_image(0, mnist_train), get_image(1, mnist_train)\n",
    "ntk = analytic_NTK(paolo_f, img1, img2, angles_shape=[4,21,3], n_shots=1)"
   ]
  },
  {
   "cell_type": "code",
   "execution_count": null,
   "id": "5157ce85",
   "metadata": {},
   "outputs": [
    {
     "data": {
      "text/plain": [
       "np.float32(125000.0)"
      ]
     },
     "execution_count": 9,
     "metadata": {},
     "output_type": "execute_result"
    }
   ],
   "source": [
    "np.float32(\n",
    "    25 * 100**2 / 2\n",
    ")"
   ]
  },
  {
   "cell_type": "code",
   "execution_count": 12,
   "id": "bb8cf872",
   "metadata": {},
   "outputs": [
    {
     "data": {
      "text/plain": [
       "11.574074074074074"
      ]
     },
     "execution_count": 12,
     "metadata": {},
     "output_type": "execute_result"
    }
   ],
   "source": [
    "10**6 / (60 * 60 * 24)"
   ]
  },
  {
   "cell_type": "code",
   "execution_count": null,
   "id": "77b5ac9a",
   "metadata": {},
   "outputs": [
    {
     "data": {
      "text/plain": [
       "torch.Size([32, 32])"
      ]
     },
     "execution_count": 3,
     "metadata": {},
     "output_type": "execute_result"
    }
   ],
   "source": [
    "\n",
    "\n",
    "img = get_image(0, mnist_train)\n",
    "img.shape"
   ]
  },
  {
   "cell_type": "code",
   "execution_count": 7,
   "id": "08a5aff7",
   "metadata": {},
   "outputs": [
    {
     "data": {
      "text/plain": [
       "0.04738991299927875"
      ]
     },
     "execution_count": 7,
     "metadata": {},
     "output_type": "execute_result"
    }
   ],
   "source": [
    "start_time = default_timer()\n",
    "paolo_f(random_angles([4,21,3]), img)\n",
    "end_time = default_timer()\n",
    "time = end_time - start_time\n",
    "time"
   ]
  },
  {
   "cell_type": "code",
   "execution_count": 8,
   "id": "986c3cee",
   "metadata": {},
   "outputs": [
    {
     "data": {
      "text/plain": [
       "252"
      ]
     },
     "execution_count": 8,
     "metadata": {},
     "output_type": "execute_result"
    }
   ],
   "source": [
    "4*21*3"
   ]
  },
  {
   "cell_type": "code",
   "execution_count": 16,
   "id": "9efc3cec",
   "metadata": {},
   "outputs": [
    {
     "data": {
      "text/plain": [
       "np.float64(13.559763032876793)"
      ]
     },
     "execution_count": 16,
     "metadata": {},
     "output_type": "execute_result"
    }
   ],
   "source": [
    "np.log10(1*252*4 * 60e3**2 * 10)"
   ]
  },
  {
   "cell_type": "code",
   "execution_count": null,
   "id": "f72abc3c",
   "metadata": {},
   "outputs": [
    {
     "data": {
      "text/plain": [
       "np.float64(0.0)"
      ]
     },
     "execution_count": 4,
     "metadata": {},
     "output_type": "execute_result"
    }
   ],
   "source": [
    "analytic_NTK(\n",
    "    paolo_f, img, img,\n",
    "    [4, 21, 3],\n",
    "    1\n",
    ")"
   ]
  },
  {
   "cell_type": "code",
   "execution_count": 12,
   "id": "5d783bbd",
   "metadata": {},
   "outputs": [
    {
     "data": {
      "text/plain": [
       "<matplotlib.image.AxesImage at 0x70d2901db1d0>"
      ]
     },
     "execution_count": 12,
     "metadata": {},
     "output_type": "execute_result"
    },
    {
     "data": {
      "image/png": "[encoded data removed]",
      "text/plain": [
       "<Figure size 640x480 with 1 Axes>"
      ]
     },
     "metadata": {},
     "output_type": "display_data"
    }
   ],
   "source": [
    "plt.imshow(\n",
    "    img.reshape(\n",
    "        [2 for _ in range(10)]\n",
    "        ).permute(\n",
    "            [i + j for i in range(5) for j in [0,5]]\n",
    "        ).reshape(\n",
    "            32, 32\n",
    "        )\n",
    ")"
   ]
  },
  {
   "cell_type": "code",
   "execution_count": 20,
   "id": "aac8019a",
   "metadata": {},
   "outputs": [
    {
     "data": {
      "text/plain": [
       "np.float64(0.08691675758502915)"
      ]
     },
     "execution_count": 20,
     "metadata": {},
     "output_type": "execute_result"
    }
   ],
   "source": [
    "angles = random_angles([4, 21, 3])\n",
    "paolo_f(angles, img)"
   ]
  },
  {
   "cell_type": "code",
   "execution_count": null,
   "id": "09c01a99",
   "metadata": {},
   "outputs": [],
   "source": []
  }
 ],
 "metadata": {
  "kernelspec": {
   "display_name": "qmlvenv (3.12.3)",
   "language": "python",
   "name": "python3"
  },
  "language_info": {
   "codemirror_mode": {
    "name": "ipython",
    "version": 3
   },
   "file_extension": ".py",
   "mimetype": "text/x-python",
   "name": "python",
   "nbconvert_exporter": "python",
   "pygments_lexer": "ipython3",
   "version": "3.12.3"
  }
 },
 "nbformat": 4,
 "nbformat_minor": 5
}
