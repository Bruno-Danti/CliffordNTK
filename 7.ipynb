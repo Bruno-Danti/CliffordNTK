{
 "cells": [
  {
   "cell_type": "code",
   "execution_count": 73,
   "id": "4d842c5b",
   "metadata": {},
   "outputs": [],
   "source": [
    "import qiskit as qsk, numpy as np, matplotlib.pyplot as plt\n",
    "from qiskit.quantum_info import SparsePauliOp, Statevector, Clifford\n",
    "from typing import Callable\n",
    "\n",
    "def random_thetas(shape: \"shape\"):\n",
    "    possible_theta_values = np.pi / 2 * np.arange(4)\n",
    "    return np.random.choice(possible_theta_values, shape)\n",
    "\n",
    "def evolveSPO(op: SparsePauliOp, other: Clifford) -> SparsePauliOp:\n",
    "    return SparsePauliOp(\n",
    "        op.paulis.evolve(other)\n",
    "    )\n",
    "\n",
    "class ParametricCircuit:\n",
    "    def __init__(self):\n",
    "        self.n_parameters: int = None\n",
    "        self.params_shape: \"shape\" = None\n",
    "    \n",
    "    def __call__(self, thetas: np.ndarray, *args, **kwds) -> qsk.QuantumCircuit:\n",
    "        pass\n",
    "\n",
    "class Model:\n",
    "    def __init__(self,\n",
    "                 parametric_circuit: ParametricCircuit,\n",
    "                 encoding: Callable[..., Statevector],\n",
    "                 observable: SparsePauliOp\n",
    "                 ):\n",
    "        self.param_circ = parametric_circuit\n",
    "        self.enc = encoding\n",
    "        self.obs = observable\n",
    "\n",
    "    def __call__(self, thetas: np.ndarray, input) -> float:\n",
    "        psi = self.enc(input)\n",
    "        qc = self.param_circ(thetas)\n",
    "        evolved_ops = evolveSPO(self.obs, Clifford(qc))\n",
    "        return psi.expectation_value(evolved_ops)\n",
    "    \n",
    "    def param_shift_rule_grad(self, thetas: np.ndarray, input, index: tuple[int]) -> float:\n",
    "        # print(f\"Relevant theta = {thetas[index]}\")\n",
    "        thetas[index] += np.pi / 2\n",
    "        # print(f\"Relevant theta = {thetas[index]}\")\n",
    "        value_plus = self.__call__(thetas, input)\n",
    "        # print(f\"Value plus = {value_plus}\")\n",
    "        thetas[index] -= np.pi\n",
    "        # print(f\"Relevant theta = {thetas[index]}\")\n",
    "        value_minus = self.__call__(thetas, input)\n",
    "        thetas[index] += np.pi/2\n",
    "        # print(f\"Value minus = {value_minus}\")\n",
    "        return (value_plus - value_minus) / 2\n",
    "    \n",
    "    def empirical_NTK(self, thetas: np.ndarray, input1, input2) -> float:\n",
    "        grad = self.param_shift_rule_grad\n",
    "        # print(\n",
    "        #     np.array([\n",
    "        #         self.param_shift_rule_grad(thetas, input1, index) #* grad(thetas, input2, index)\n",
    "        #         for index in np.ndindex(thetas.shape)\n",
    "        #     ])\n",
    "        # )\n",
    "        return np.sum([\n",
    "            grad(thetas, input1, index) * grad(thetas, input2, index)\n",
    "            for index in np.ndindex(thetas.shape)\n",
    "        ])\n",
    "    \n",
    "    def analytic_NTK(self, input1, input2, n_shots):\n",
    "        return np.mean([\n",
    "            self.empirical_NTK(random_thetas(self.param_circ.params_shape),\n",
    "                               input1, input2)\n",
    "            for _ in range(n_shots)\n",
    "        ])\n",
    "\n",
    "\n",
    "class SimpleTestCircuit(ParametricCircuit):\n",
    "    def __init__(self, n_qubits: int):\n",
    "        self.n_parameters: int = n_qubits\n",
    "        self.params_shape: tuple[int] = (n_qubits)\n",
    "    \n",
    "    def __call__(self, thetas: np.ndarray) -> qsk.QuantumCircuit:\n",
    "        qc = qsk.QuantumCircuit(self.n_parameters)\n",
    "        for i in range(self.n_parameters): qc.rx(thetas[i], i)\n",
    "        return qc"
   ]
  },
  {
   "cell_type": "code",
   "execution_count": 74,
   "id": "60ff7180",
   "metadata": {},
   "outputs": [],
   "source": [
    "def basis_encoding(int: int, n_qubits: int) -> Statevector:\n",
    "    return Statevector.from_int(int, 2**n_qubits)\n",
    "\n",
    "def sumZ(n_qubits: int) -> SparsePauliOp:\n",
    "    return SparsePauliOp.from_sparse_list(\n",
    "        [(\"Z\", [i], 1) for i in range(n_qubits)],\n",
    "        num_qubits = n_qubits\n",
    "    )\n",
    "\n",
    "n_qubits = 5\n",
    "\n",
    "simple_model = Model(\n",
    "    SimpleTestCircuit(n_qubits),\n",
    "    lambda i: basis_encoding(i, n_qubits),\n",
    "    sumZ(n_qubits)\n",
    ")"
   ]
  },
  {
   "cell_type": "code",
   "execution_count": 77,
   "id": "53698fad",
   "metadata": {},
   "outputs": [
    {
     "name": "stdout",
     "output_type": "stream",
     "text": [
      "[1.57079633 0.         0.         0.         0.        ]\n"
     ]
    },
    {
     "data": {
      "text/html": [
       "<pre style=\"word-wrap: normal;white-space: pre;background: #fff0;line-height: 1.1;font-family: &quot;Courier New&quot;,Courier,monospace\">     ┌─────────┐\n",
       "q_0: ┤ Rx(π/2) ├\n",
       "     └┬───────┬┘\n",
       "q_1: ─┤ Rx(0) ├─\n",
       "      ├───────┤ \n",
       "q_2: ─┤ Rx(0) ├─\n",
       "      ├───────┤ \n",
       "q_3: ─┤ Rx(0) ├─\n",
       "      ├───────┤ \n",
       "q_4: ─┤ Rx(0) ├─\n",
       "      └───────┘ </pre>"
      ],
      "text/plain": [
       "     ┌─────────┐\n",
       "q_0: ┤ Rx(π/2) ├\n",
       "     └┬───────┬┘\n",
       "q_1: ─┤ Rx(0) ├─\n",
       "      ├───────┤ \n",
       "q_2: ─┤ Rx(0) ├─\n",
       "      ├───────┤ \n",
       "q_3: ─┤ Rx(0) ├─\n",
       "      ├───────┤ \n",
       "q_4: ─┤ Rx(0) ├─\n",
       "      └───────┘ "
      ]
     },
     "metadata": {},
     "output_type": "display_data"
    },
    {
     "name": "stdout",
     "output_type": "stream",
     "text": [
      "(4+0j)\n",
      "(-1+0j)\n",
      "theatas after \n",
      "[1.57079633 0.         0.         0.         0.        ]\n",
      "(1+0j)\n"
     ]
    }
   ],
   "source": [
    "thetas = np.zeros(n_qubits)\n",
    "thetas[0] = np.pi/2\n",
    "print(thetas)\n",
    "display(simple_model.param_circ(thetas).draw(\"text\"))\n",
    "print(simple_model(thetas, 0))\n",
    "print(simple_model.param_shift_rule_grad(thetas, 0, (0)))\n",
    "print(f\"theatas after \\n{thetas}\")\n",
    "print(simple_model.empirical_NTK(thetas, 0, 0))"
   ]
  },
  {
   "cell_type": "code",
   "execution_count": 82,
   "id": "3115de42",
   "metadata": {},
   "outputs": [
    {
     "data": {
      "text/plain": [
       "np.complex128(1.53+0j)"
      ]
     },
     "execution_count": 82,
     "metadata": {},
     "output_type": "execute_result"
    }
   ],
   "source": [
    "simple_model.analytic_NTK(0,1, 500)"
   ]
  },
  {
   "cell_type": "code",
   "execution_count": null,
   "id": "b06c99ff",
   "metadata": {},
   "outputs": [],
   "source": []
  }
 ],
 "metadata": {
  "kernelspec": {
   "display_name": "qmlvenv (3.12.3)",
   "language": "python",
   "name": "python3"
  },
  "language_info": {
   "codemirror_mode": {
    "name": "ipython",
    "version": 3
   },
   "file_extension": ".py",
   "mimetype": "text/x-python",
   "name": "python",
   "nbconvert_exporter": "python",
   "pygments_lexer": "ipython3",
   "version": "3.12.3"
  }
 },
 "nbformat": 4,
 "nbformat_minor": 5
}
